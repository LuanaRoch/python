{
  "nbformat": 4,
  "nbformat_minor": 0,
  "metadata": {
    "colab": {
      "provenance": []
    },
    "kernelspec": {
      "name": "python3",
      "display_name": "Python 3"
    },
    "language_info": {
      "name": "python"
    }
  },
  "cells": [
    {
      "cell_type": "code",
      "execution_count": 3,
      "metadata": {
        "colab": {
          "base_uri": "https://localhost:8080/"
        },
        "id": "zpFB_Ve7iSo5",
        "outputId": "48eeb9d8-5574-43b9-bb08-2f6e07c914ae"
      },
      "outputs": [
        {
          "output_type": "stream",
          "name": "stdout",
          "text": [
            "<class 'type'> False\n"
          ]
        }
      ],
      "source": [
        "\n",
        "#ETE CICERO DIAS\n",
        "#DOCENTE: CLOVES ROCHA\n",
        "# ALUNO(A):LUANA ROCHA\n",
        "\n",
        "# print('cloves')\n",
        "\n",
        "c=False\n",
        "print(type,(c))"
      ]
    }
  ]
}