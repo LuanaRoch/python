{
  "nbformat": 4,
  "nbformat_minor": 0,
  "metadata": {
    "colab": {
      "provenance": [],
      "authorship_tag": "ABX9TyO6OBc9huLj1h2m0Xa7sQsO",
      "include_colab_link": true
    },
    "kernelspec": {
      "name": "python3",
      "display_name": "Python 3"
    },
    "language_info": {
      "name": "python"
    }
  },
  "cells": [
    {
      "cell_type": "markdown",
      "metadata": {
        "id": "view-in-github",
        "colab_type": "text"
      },
      "source": [
        "<a href=\"https://colab.research.google.com/github/LuanaRoch/python/blob/main/Untitled4.ipynb\" target=\"_parent\"><img src=\"https://colab.research.google.com/assets/colab-badge.svg\" alt=\"Open In Colab\"/></a>"
      ]
    },
    {
      "cell_type": "code",
      "execution_count": 12,
      "metadata": {
        "colab": {
          "base_uri": "https://localhost:8080/",
          "height": 140
        },
        "id": "7rQuSefh4pW8",
        "outputId": "183f15fa-16ff-418b-9311-1f41ea1b758e"
      },
      "outputs": [
        {
          "output_type": "error",
          "ename": "IndentationError",
          "evalue": "ignored",
          "traceback": [
            "\u001b[0;36m  File \u001b[0;32m\"<tokenize>\"\u001b[0;36m, line \u001b[0;32m10\u001b[0m\n\u001b[0;31m    def set_nrodas(self,n):\u001b[0m\n\u001b[0m    ^\u001b[0m\n\u001b[0;31mIndentationError\u001b[0m\u001b[0;31m:\u001b[0m unindent does not match any outer indentation level\n"
          ]
        }
      ],
      "source": [
        "#ETECICERODIAS\n",
        "#PROF:CLOVES\n",
        "#PYTHO NOÇÕES OO\n",
        "#ESTUDANTE: LUANA ROCHA\n",
        "\n",
        "\n",
        "class Carro:\n",
        "   def __init__(self):\n",
        "      self.nrodas = 4\n",
        "    def set_nrodas(self,n):\n",
        "      self._nrodas = n\n",
        "\n",
        "gol = carro ()\n",
        "#gol._nrodas\n",
        "\n",
        "gol.set_nrodas(10)\n",
        "#gol._nrodas\n",
        "\n",
        "print(c)"
      ]
    },
    {
      "cell_type": "code",
      "source": [],
      "metadata": {
        "id": "AUn9XFrW6ktY"
      },
      "execution_count": null,
      "outputs": []
    }
  ]
}